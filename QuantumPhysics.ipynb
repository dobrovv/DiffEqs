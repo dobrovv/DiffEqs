{
 "cells": [
  {
   "cell_type": "code",
   "execution_count": 57,
   "metadata": {},
   "outputs": [],
   "source": [
    "from numpy import *\n",
    "from matplotlib import pyplot as plt\n",
    "from enum import Enum\n",
    "from IPython import display\n",
    "\n",
    "\n",
    "class c(float,Enum):\n",
    "    h = 6.625e-34 #J-s\n",
    "    hbar = 1.054e-34 # J-s\n",
    "    c = 3e10 #m-s\n",
    "    eV = 1.6e-19 # J\n",
    "    adot = 1e-10 # m\n",
    "    m_e = 9.11e-31 # kg\n",
    "    k = 1.38e-23 # m^2 kg s^-2 K^-1\n",
    "\n",
    "    \n",
    "\n",
    "\n",
    "    \n"
   ]
  },
  {
   "cell_type": "code",
   "execution_count": 25,
   "metadata": {},
   "outputs": [
    {
     "data": {
      "text/plain": [
       "1.9875e-17"
      ]
     },
     "execution_count": 25,
     "metadata": {},
     "output_type": "execute_result"
    }
   ],
   "source": [
    "c.h*c.c/10000/c.adot"
   ]
  },
  {
   "cell_type": "code",
   "execution_count": 16,
   "metadata": {},
   "outputs": [
    {
     "data": {
      "text/plain": [
       "<c.c: 30000000000.0>"
      ]
     },
     "execution_count": 16,
     "metadata": {},
     "output_type": "execute_result"
    }
   ],
   "source": []
  },
  {
   "cell_type": "code",
   "execution_count": 67,
   "metadata": {},
   "outputs": [
    {
     "data": {
      "text/plain": [
       "<matplotlib.figure.Figure at 0x10b003b0>"
      ]
     },
     "metadata": {},
     "output_type": "display_data"
    },
    {
     "data": {
      "image/png": "[encoded data removed]",
      "text/plain": [
       "<matplotlib.figure.Figure at 0x10b003b0>"
      ]
     },
     "metadata": {},
     "output_type": "display_data"
    }
   ],
   "source": [
    "x = linspace(0,99,100)\n",
    "t = linspace(0,99,100)\n",
    "#def I(u): return 1 if 45<u<55 else 0\n",
    "def I(u): return 100*sin(u/2/pi) if 45<u<55 else 0\n",
    "\n",
    "\n",
    "\n",
    "u = x*0\n",
    "u_1 = x*0\n",
    "u_2 = x*0\n",
    "# Given mesh points as arrays x and t (x[i], t[n])\n",
    "c=1\n",
    "dx = x[1] - x[0]\n",
    "dt = t[1] - t[0]\n",
    "C = c*dt/dx            # Courant number\n",
    "Nt = len(t)-1\n",
    "Nx = len(x)-1\n",
    "C2 = C**2              # Help variable in the scheme\n",
    "\n",
    "# Set initial condition u(x,0) = I(x)\n",
    "for i in range(0, Nx+1):\n",
    "    u_1[i] = I(x[i])\n",
    "\n",
    "# Apply special formula for first step, incorporating du/dt=0\n",
    "for i in range(1, Nx):\n",
    "    u[i] = u_1[i] + 0.5*C**2*(u_1[i+1] - 2*u_1[i] + u_1[i-1])\n",
    "u[0] = 0;  u[Nx] = 0   # Enforce boundary conditions\n",
    "\n",
    "# Switch variables before next step\n",
    "u_2[:], u_1[:] = u_1, u\n",
    "\n",
    "for n in range(1, Nt):\n",
    "    # Update all inner mesh points at time t[n+1]\n",
    "    for i in range(1, Nx):\n",
    "        u[i] = 2*u_1[i] - u_2[i] + C**2*(u_1[i+1] - 2*u_1[i] + u_1[i-1])\n",
    "\n",
    "    # Insert boundary conditions\n",
    "    u[0] = 0;  u[Nx] = 0\n",
    "\n",
    "    # Switch variables before next step\n",
    "    u_2[:], u_1[:] = u_1, u\n",
    "    \n",
    "    display.clear_output(wait=True)\n",
    "    display.display(plt.gcf())\n",
    "    plt.plot(x, u)\n",
    "    plt.show()"
   ]
  },
  {
   "cell_type": "code",
   "execution_count": 68,
   "metadata": {},
   "outputs": [
    {
     "name": "stderr",
     "output_type": "stream",
     "text": [
      "c:\\dev\\tools\\python3\\lib\\site-packages\\matplotlib\\figure.py:402: UserWarning: matplotlib is currently using a non-GUI backend, so cannot show the figure\n",
      "  \"matplotlib is currently using a non-GUI backend, \"\n"
     ]
    }
   ],
   "source": [
    "fig = plt.figure()\n",
    "ax = fig.add_subplot(111)\n",
    "plt.ion()\n",
    "\n",
    "fig.show()\n",
    "fig.canvas.draw()"
   ]
  },
  {
   "cell_type": "code",
   "execution_count": null,
   "metadata": {},
   "outputs": [],
   "source": []
  }
 ],
 "metadata": {
  "kernelspec": {
   "display_name": "Python 3",
   "language": "python",
   "name": "python3"
  },
  "language_info": {
   "codemirror_mode": {
    "name": "ipython",
    "version": 3
   },
   "file_extension": ".py",
   "mimetype": "text/x-python",
   "name": "python",
   "nbconvert_exporter": "python",
   "pygments_lexer": "ipython3",
   "version": "3.6.0"
  }
 },
 "nbformat": 4,
 "nbformat_minor": 2
}
