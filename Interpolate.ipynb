{
 "cells": [
  {
   "cell_type": "code",
   "execution_count": 29,
   "metadata": {},
   "outputs": [
    {
     "name": "stdout",
     "output_type": "stream",
     "text": [
      "Using matplotlib backend: TkAgg\n"
     ]
    }
   ],
   "source": [
    "import numpy as np\n",
    "import matplotlib.pyplot as plt\n",
    "#%matplotlib inline\n",
    "%matplotlib\n",
    "\n",
    "def LagrangeInterpolate(x, points):\n",
    "    \n",
    "    def L(i):\n",
    "        res = 1\n",
    "        for j, p in enumerate(points):\n",
    "            if j == i: continue\n",
    "            res *= (x-points[j][0])/(points[i][0]-points[j][0])\n",
    "        return res\n",
    "    \n",
    "    s = 0\n",
    "    for i, p in enumerate(points):\n",
    "        s += points[i][1]*L(i)\n",
    "    return s;\n",
    "\n",
    "def DivDiff(points):\n",
    "    \n",
    "    if len(points) == 1:\n",
    "        return points[0][1]\n",
    "    else: \n",
    "        return ( DivDiff(points[1:]) - DivDiff(points[:-1]) ) / ( points[-1][0] - points[0][0] )\n",
    "\n",
    "def NewtonPolynomial(x, points):\n",
    "    s = 0\n",
    "    \n",
    "    for i, p in enumerate(points):\n",
    "        \n",
    "        a_i = DivDiff(points[:i+1])\n",
    "        prod = 1 * a_i\n",
    "        \n",
    "        for j in range(i):\n",
    "            prod *= (x-points[j][0])\n",
    "        \n",
    "        s += prod\n",
    "            \n",
    "    return s\n",
    "    \n",
    "\n",
    "            \n",
    "        \n",
    "points = list(zip(\n",
    "    [1,2,4,5,7],\n",
    "    [52,5,-5,-40,10]\n",
    "))\n",
    "\n",
    "x = np.arange(0, points[-1][0]**1.1, 0.1)\n",
    "\n",
    "\n",
    "plt.figure(1)\n",
    "plt.plot(x, LagrangeInterpolate(x, points))\n",
    "plt.plot(*list(zip(*points)),\"or\")\n",
    "\n",
    "plt.figure(2)\n",
    "plt.plot(x, NewtonPolynomial(x, points))\n",
    "plt.plot(*list(zip(*points)),\"or\")\n",
    "\n",
    "plt.show()\n",
    "    "
   ]
  },
  {
   "cell_type": "code",
   "execution_count": null,
   "metadata": {},
   "outputs": [],
   "source": []
  }
 ],
 "metadata": {
  "kernelspec": {
   "display_name": "Python 3",
   "language": "python",
   "name": "python3"
  },
  "language_info": {
   "codemirror_mode": {
    "name": "ipython",
    "version": 3
   },
   "file_extension": ".py",
   "mimetype": "text/x-python",
   "name": "python",
   "nbconvert_exporter": "python",
   "pygments_lexer": "ipython3",
   "version": "3.6.0"
  }
 },
 "nbformat": 4,
 "nbformat_minor": 2
}
