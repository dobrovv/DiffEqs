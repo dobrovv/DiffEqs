{
 "cells": [
  {
   "cell_type": "code",
   "execution_count": 1,
   "metadata": {},
   "outputs": [],
   "source": [
    "import matplotlib.pyplot as plt\n",
    "import numpy as np\n",
    "%matplotlib qt5"
   ]
  },
  {
   "cell_type": "code",
   "execution_count": 10,
   "metadata": {},
   "outputs": [
    {
     "data": {
      "text/plain": [
       "<Container object of 3 artists>"
      ]
     },
     "execution_count": 10,
     "metadata": {},
     "output_type": "execute_result"
    }
   ],
   "source": [
    "k = np.arange(-4,5)\n",
    "\n",
    "x = np.piecewise(k, [k==0, abs(k)==1], [2,-1])\n",
    "h = np.piecewise(k, [k==0, abs(k)==1, abs(k)==2], [2,3,-1])\n",
    "\n",
    "x = np.sin(k*np.pi/10)\n",
    "\n",
    "plt.subplot(131)\n",
    "plt.stem(k,x)\n",
    "\n",
    "plt.subplot(132)\n",
    "plt.stem(k,h)\n",
    "\n",
    "plt.subplot(233)\n",
    "y = np.convolve(x,h)\n",
    "plt.stem(y)\n",
    "\n",
    "def conv(x,h):\n",
    "    x = np.array(np.trim_zeros(x))\n",
    "    h = np.array(np.trim_zeros(h))\n",
    "    \n",
    "    y = np.zeros(len(x)+len(h)-1)\n",
    "    \n",
    "    x.resize(len(y))\n",
    "    h.resize(len(y))\n",
    "    \n",
    "    h_inv = np.concatenate((h[0:1], h[:0:-1]))\n",
    "    \n",
    "    for k in range(len(y)):\n",
    "        y[k] = sum(x*np.roll(h_inv,k))\n",
    "    \n",
    "    return y\n",
    "    \n",
    "y = conv(x,h)\n",
    "plt.subplot(2,3,6)\n",
    "\n",
    "yk = np.arange(len(y))\n",
    "\n",
    "plt.stem(yk-3,y)\n",
    "\n",
    "\n",
    "\n",
    "\n",
    "\n",
    "\n"
   ]
  },
  {
   "cell_type": "code",
   "execution_count": 16,
   "metadata": {},
   "outputs": [],
   "source": [
    "def u(k): return np.piecewise(k, [k<0, k>=0], [0,1])\n",
    "\n",
    "def x(k): return 3*np.sin(2*np.pi/7*k+np.pi/4)\n",
    "\n",
    "\n",
    "Fs = 1\n",
    "k = np.arange(-5, 1000, 1/Fs)\n",
    "\n",
    "xk = x(k)\n",
    "\n",
    "w = np.fft.fftfreq(k.shape[-1]) * 2*np.pi\n",
    "Xw = np.fft.fft(xk)\n",
    "w = np.fft.fftshift(w)\n",
    "Xw = np.fft.fftshift(Xw)\n",
    "\n",
    "plt.figure(1); \n",
    "\n",
    "plt.subplot(211)\n",
    "plt.plot(k, xk)\n",
    "plt.grid(True);\n",
    "plt.subplot(223)\n",
    "plt.plot(w, np.abs(Xw))\n",
    "plt.grid(True);\n",
    "plt.subplot(224)\n",
    "plt.plot(w, np.angle(Xw))\n",
    "plt.grid(True);\n"
   ]
  },
  {
   "cell_type": "code",
   "execution_count": 65,
   "metadata": {},
   "outputs": [
    {
     "data": {
      "text/plain": [
       "(100,)"
      ]
     },
     "execution_count": 65,
     "metadata": {},
     "output_type": "execute_result"
    }
   ],
   "source": [
    "t = np.arange(100)\n",
    "sp = np.fft.fft(np.sin(2*np.pi/10*t))\n",
    "freq = np.fft.fftfreq(t.shape[-1])\n",
    "plt.plot(freq, sp.real, freq, sp.imag)\n",
    "t.shape"
   ]
  },
  {
   "cell_type": "code",
   "execution_count": 36,
   "metadata": {},
   "outputs": [
    {
     "data": {
      "text/plain": [
       "array([ 0.        ,  0.03141593,  0.06283185,  0.09424778,  0.12566371,\n",
       "        0.15707963,  0.18849556,  0.21991149,  0.25132741,  0.28274334,\n",
       "        0.31415927,  0.34557519,  0.37699112,  0.40840704,  0.43982297,\n",
       "        0.4712389 ,  0.50265482,  0.53407075,  0.56548668,  0.5969026 ,\n",
       "        0.62831853,  0.65973446,  0.69115038,  0.72256631,  0.75398224,\n",
       "        0.78539816,  0.81681409,  0.84823002,  0.87964594,  0.91106187,\n",
       "        0.9424778 ,  0.97389372,  1.00530965,  1.03672558,  1.0681415 ,\n",
       "        1.09955743,  1.13097336,  1.16238928,  1.19380521,  1.22522113,\n",
       "        1.25663706,  1.28805299,  1.31946891,  1.35088484,  1.38230077,\n",
       "        1.41371669,  1.44513262,  1.47654855,  1.50796447,  1.5393804 ,\n",
       "        1.57079633,  1.60221225,  1.63362818,  1.66504411,  1.69646003,\n",
       "        1.72787596,  1.75929189,  1.79070781,  1.82212374,  1.85353967,\n",
       "        1.88495559,  1.91637152,  1.94778745,  1.97920337,  2.0106193 ,\n",
       "        2.04203522,  2.07345115,  2.10486708,  2.136283  ,  2.16769893,\n",
       "        2.19911486,  2.23053078,  2.26194671,  2.29336264,  2.32477856,\n",
       "        2.35619449,  2.38761042,  2.41902634,  2.45044227,  2.4818582 ,\n",
       "        2.51327412,  2.54469005,  2.57610598,  2.6075219 ,  2.63893783,\n",
       "        2.67035376,  2.70176968,  2.73318561,  2.76460154,  2.79601746,\n",
       "        2.82743339,  2.85884931,  2.89026524,  2.92168117,  2.95309709,\n",
       "        2.98451302,  3.01592895,  3.04734487,  3.0787608 ,  3.11017673,\n",
       "       -3.14159265, -3.11017673, -3.0787608 , -3.04734487, -3.01592895,\n",
       "       -2.98451302, -2.95309709, -2.92168117, -2.89026524, -2.85884931,\n",
       "       -2.82743339, -2.79601746, -2.76460154, -2.73318561, -2.70176968,\n",
       "       -2.67035376, -2.63893783, -2.6075219 , -2.57610598, -2.54469005,\n",
       "       -2.51327412, -2.4818582 , -2.45044227, -2.41902634, -2.38761042,\n",
       "       -2.35619449, -2.32477856, -2.29336264, -2.26194671, -2.23053078,\n",
       "       -2.19911486, -2.16769893, -2.136283  , -2.10486708, -2.07345115,\n",
       "       -2.04203522, -2.0106193 , -1.97920337, -1.94778745, -1.91637152,\n",
       "       -1.88495559, -1.85353967, -1.82212374, -1.79070781, -1.75929189,\n",
       "       -1.72787596, -1.69646003, -1.66504411, -1.63362818, -1.60221225,\n",
       "       -1.57079633, -1.5393804 , -1.50796447, -1.47654855, -1.44513262,\n",
       "       -1.41371669, -1.38230077, -1.35088484, -1.31946891, -1.28805299,\n",
       "       -1.25663706, -1.22522113, -1.19380521, -1.16238928, -1.13097336,\n",
       "       -1.09955743, -1.0681415 , -1.03672558, -1.00530965, -0.97389372,\n",
       "       -0.9424778 , -0.91106187, -0.87964594, -0.84823002, -0.81681409,\n",
       "       -0.78539816, -0.75398224, -0.72256631, -0.69115038, -0.65973446,\n",
       "       -0.62831853, -0.5969026 , -0.56548668, -0.53407075, -0.50265482,\n",
       "       -0.4712389 , -0.43982297, -0.40840704, -0.37699112, -0.34557519,\n",
       "       -0.31415927, -0.28274334, -0.25132741, -0.21991149, -0.18849556,\n",
       "       -0.15707963, -0.12566371, -0.09424778, -0.06283185, -0.03141593])"
      ]
     },
     "execution_count": 36,
     "metadata": {},
     "output_type": "execute_result"
    }
   ],
   "source": [
    "w"
   ]
  },
  {
   "cell_type": "code",
   "execution_count": 17,
   "metadata": {},
   "outputs": [],
   "source": [
    "f1 = 20;   # set sampling rate\n",
    "t1 = 1/f1; # set sampling interval\n",
    "N = 201; k = np.arange(N);   # set length of DT sequence to  N = 201\n",
    "g = np.exp(-0.025*k); # compute the DT sequence\n",
    "#g[0] = 0.5;        # initialize the first sample\n",
    "g = x(k)\n",
    "G = np.fft.fft(g);        # determine the 201-point DFT\n",
    "G = np.fft.fftshift(G);   # shift the DFT coefficients\n",
    "G = t1*G;          # scale DFT such that DFT = CTFT\n",
    "dw = 2*np.pi*f1/N;    # CTFT frequency resolution\n",
    "w = np.arange(-np.pi*f1, np.pi*f1, dw);   # compute CTFT frequencies\n",
    "\n",
    "plt.figure()\n",
    "plt.subplot(121)\n",
    "plt.plot(w,np.abs(G));    # plot CTFT magnitude spectrum\n",
    "plt.grid(True)\n",
    "plt.subplot(122)\n",
    "plt.plot(w,np.angle(G));  # plot CTFT phase spectrum\n",
    "plt.grid(True)"
   ]
  },
  {
   "cell_type": "code",
   "execution_count": null,
   "metadata": {},
   "outputs": [],
   "source": []
  }
 ],
 "metadata": {
  "kernelspec": {
   "display_name": "Python 3",
   "language": "python",
   "name": "python3"
  },
  "language_info": {
   "codemirror_mode": {
    "name": "ipython",
    "version": 3
   },
   "file_extension": ".py",
   "mimetype": "text/x-python",
   "name": "python",
   "nbconvert_exporter": "python",
   "pygments_lexer": "ipython3",
   "version": "3.6.0"
  }
 },
 "nbformat": 4,
 "nbformat_minor": 2
}
