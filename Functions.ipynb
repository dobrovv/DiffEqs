{
 "cells": [
  {
   "cell_type": "code",
   "execution_count": 303,
   "metadata": {
    "scrolled": false
   },
   "outputs": [
    {
     "data": {
      "text/plain": [
       "[<matplotlib.lines.Line2D at 0x1bb577f0>,\n",
       " <matplotlib.lines.Line2D at 0x1bb57d90>]"
      ]
     },
     "execution_count": 303,
     "metadata": {},
     "output_type": "execute_result"
    },
    {
     "data": {
      "image/png": "[encoded data removed]",
      "text/plain": [
       "<matplotlib.figure.Figure at 0x1bac92b0>"
      ]
     },
     "metadata": {},
     "output_type": "display_data"
    }
   ],
   "source": [
    "class FunctionType:\n",
    "        \n",
    "    def __init__(self, f):\n",
    "        self.f = f\n",
    "        \n",
    "    def __call__(self, *args, **kwargs):\n",
    "        return self.f(*args, **kwargs)\n",
    "    \n",
    "    def __add__(self, other):\n",
    "        other = Function(other)\n",
    "        def operator(*args, **kwargs): return self(*args, **kwargs) + other(*args, **kwargs)\n",
    "        return FunctionType(operator)\n",
    "    \n",
    "    def __sub__(self, other):\n",
    "        other = Function(other)\n",
    "        def operator(*args, **kwargs): return self(*args, **kwargs) - other(*args, **kwargs)\n",
    "        return FunctionType(operator)\n",
    "    \n",
    "    def __mul__(self, other):\n",
    "        other = Function(other)\n",
    "        def operator(*args, **kwargs): return self(*args, **kwargs) * other(*args, **kwargs)\n",
    "        return FunctionType(operator)\n",
    "    \n",
    "    def __div__(self, other):\n",
    "        other = Function(other)\n",
    "        def operator(*args, **kwargs): return self(*args, **kwargs) / other(*args, **kwargs)\n",
    "        return FunctionType(operator)\n",
    "    \n",
    "    def __pow__(self, other):\n",
    "        other = Function(other)\n",
    "        def operator(*args, **kwargs): return self(*args, **kwargs) ** other(*args, **kwargs)\n",
    "        return FunctionType(operator)\n",
    "    \n",
    "    def __matmul__(self, other):\n",
    "        other = Function(other)\n",
    "        def operator(*args, **kwargs): return self(other(*args, **kwargs))\n",
    "        return FunctionType(operator)\n",
    "\n",
    "\n",
    "def Function(f):\n",
    "    if isinstance(f, FunctionType):\n",
    "        return f\n",
    "    elif callable(f):\n",
    "        return FunctionType(f)\n",
    "    else:\n",
    "        def scalar_wrapper(*args, **kwargs):\n",
    "            return f\n",
    "        return FunctionType(scalar_wrapper)\n",
    "    \n",
    "\n",
    "def bind(**bound_kwargs):\n",
    "    def decorator(f):\n",
    "        def decorated(*args, **kwargs):\n",
    "            kwargs.update(bound_kwargs)\n",
    "            return f(*args, **kwargs)\n",
    "        return decorated\n",
    "    return decorator\n",
    "    \n",
    "\n",
    "@Function\n",
    "def I(x):\n",
    "    return x\n",
    "    \n",
    "@Function\n",
    "def f(*args, **kwargs):\n",
    "    return 3\n",
    "\n",
    "\n",
    "%matplotlib inline\n",
    "import matplotlib.pyplot as plt\n",
    "from numpy import *\n",
    "\n",
    "sin = Function(sin)\n",
    "cos = Function(cos)\n",
    "\n",
    "t = arange(-2*pi, 2*pi, 0.0001)\n",
    "\n",
    "f = sin\n",
    "\n",
    "@Function\n",
    "def shsc(x, b, a):\n",
    "    return a*x+b\n",
    "    \n",
    "f = I\n",
    "shsc = bind(b=0, a=0)(shsc)\n",
    "\n",
    "plt.plot(t, f(t), t, (f@shsc)(t))"
   ]
  },
  {
   "cell_type": "code",
   "execution_count": 248,
   "metadata": {},
   "outputs": [
    {
     "data": {
      "text/plain": [
       "5"
      ]
     },
     "execution_count": 248,
     "metadata": {},
     "output_type": "execute_result"
    }
   ],
   "source": [
    "\n",
    "        \n",
    "\n",
    "def fn(a,b):\n",
    "    return a+b\n",
    "\n",
    "fn = bind(a=2, b=3)(fn)\n",
    "\n",
    "fn()"
   ]
  },
  {
   "cell_type": "code",
   "execution_count": 258,
   "metadata": {},
   "outputs": [
    {
     "name": "stdout",
     "output_type": "stream",
     "text": [
      "Args ()\n",
      "kwArgs {}\n"
     ]
    }
   ],
   "source": [
    "def f(a, *args, **kwargs):\n",
    "    print('Args',  args)\n",
    "    print('kwArgs',  kwargs)\n",
    "    \n",
    "f(3)"
   ]
  },
  {
   "cell_type": "code",
   "execution_count": null,
   "metadata": {},
   "outputs": [],
   "source": []
  },
  {
   "cell_type": "code",
   "execution_count": null,
   "metadata": {},
   "outputs": [],
   "source": []
  }
 ],
 "metadata": {
  "kernelspec": {
   "display_name": "Python 3",
   "language": "python",
   "name": "python3"
  },
  "language_info": {
   "codemirror_mode": {
    "name": "ipython",
    "version": 3
   },
   "file_extension": ".py",
   "mimetype": "text/x-python",
   "name": "python",
   "nbconvert_exporter": "python",
   "pygments_lexer": "ipython3",
   "version": "3.6.0"
  }
 },
 "nbformat": 4,
 "nbformat_minor": 2
}
