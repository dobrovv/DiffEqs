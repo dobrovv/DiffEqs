{
 "cells": [
  {
   "cell_type": "code",
   "execution_count": 8,
   "metadata": {},
   "outputs": [
    {
     "name": "stdout",
     "output_type": "stream",
     "text": [
      "Using matplotlib backend: TkAgg\n",
      "Result: 574.1494067751289\n"
     ]
    }
   ],
   "source": [
    "import numpy as np\n",
    "import matplotlib.pyplot as plt\n",
    "#%matplotlib inline\n",
    "%matplotlib\n",
    "\n",
    "points = list(zip(\n",
    "    [1,2,4,5,7],\n",
    "    [52,5,-5,-40,10]\n",
    "))\n",
    "\n",
    "def f(x):\n",
    "    return (97000*x)/(5*x**2+570000)\n",
    "\n",
    "def IntegrateTrapezoid(f, a, b, intervals=100):\n",
    "    \n",
    "    h = (b-a)/intervals\n",
    "    \n",
    "    \n",
    "    s = h/2*(f(a)+f(b)) + h*sum([f(a+i*h) for i in range(1,intervals)])\n",
    "    return s\n",
    "\n",
    "print(\"Result:\", IntegrateTrapezoid(f, 40, 93, 1000))\n",
    "\n",
    "\n",
    "def plot():\n",
    "    plt.figure(1)\n",
    "    plt.plot(x, LagrangeInterpolate(x, points))\n",
    "    plt.plot(*list(zip(*points)),\"or\")\n",
    "    \n",
    "    plt.show()\n",
    "    \n",
    "    "
   ]
  },
  {
   "cell_type": "code",
   "execution_count": null,
   "metadata": {},
   "outputs": [],
   "source": []
  }
 ],
 "metadata": {
  "kernelspec": {
   "display_name": "Python 3",
   "language": "python",
   "name": "python3"
  },
  "language_info": {
   "codemirror_mode": {
    "name": "ipython",
    "version": 3
   },
   "file_extension": ".py",
   "mimetype": "text/x-python",
   "name": "python",
   "nbconvert_exporter": "python",
   "pygments_lexer": "ipython3",
   "version": "3.6.0"
  }
 },
 "nbformat": 4,
 "nbformat_minor": 2
}
