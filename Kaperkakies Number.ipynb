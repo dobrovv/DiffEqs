{
  "metadata": {
    "kernelspec": {
      "name": "python",
      "display_name": "Python (Pyodide)",
      "language": "python"
    },
    "language_info": {
      "codemirror_mode": {
        "name": "python",
        "version": 3
      },
      "file_extension": ".py",
      "mimetype": "text/x-python",
      "name": "python",
      "nbconvert_exporter": "python",
      "pygments_lexer": "ipython3",
      "version": "3.8"
    }
  },
  "nbformat_minor": 4,
  "nbformat": 4,
  "cells": [
    {
      "cell_type": "markdown",
      "source": "## The number 6174 also known as Kaprekar's constant \n\nThis number is renowned for the following rule:\n* Take any four-digit number, using at least two different digits (leading zeros are allowed).\n* Arrange the digits in descending and then in ascending order to get two four-digit numbers, adding leading zeros if necessary.\n* Subtract the smaller number from the bigger number.\n* Go back to step 2 and repeat.",
      "metadata": {}
    },
    {
      "cell_type": "code",
      "source": "def sortDigits(n, ascending=True):\n    numString = list(str(n));\n    numString.sort(reverse=not ascending);\n    N = len(numString)\n    num = sum([int(numString[i])*10**(N-i-1) for i in range(N)])\n    return num;\n\ndef sortAscendingNum(n):\n    return sortDigits(n, ascending=True)\n\ndef sortDescendingNum(n):\n    return sortDigits(n, ascending=False)\n\nn = 7851\niterations = 0\nwhile n != 6174:\n    newN = sortDescendingNum(n) - sortAscendingNum(n)\n    print(newN, \"=\", sortDescendingNum(n), \"-\", sortAscendingNum(n))\n    iterations = iterations + 1\n    n = newN\n\nprint( \"Kaprekar's number reached in \" , iterations , \" iterations\")\n\n",
      "metadata": {
        "trusted": true
      },
      "outputs": [
        {
          "name": "stdout",
          "text": "7173 = 8751 - 1578\n6354 = 7731 - 1377\n3087 = 6543 - 3456\n8352 = 8730 - 378\n6174 = 8532 - 2358\nKaprekar's number reached in  5  iterations\n",
          "output_type": "stream"
        }
      ],
      "execution_count": 22
    }
  ]
}